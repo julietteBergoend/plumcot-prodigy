{
 "cells": [
  {
   "cell_type": "markdown",
   "metadata": {},
   "source": [
    "### Remplacement des locuteurs \"non_available\" par leur locuteur sélectionné dans Prodigy"
   ]
  },
  {
   "cell_type": "code",
   "execution_count": 2,
   "metadata": {},
   "outputs": [],
   "source": [
    "import os\n",
    "import json"
   ]
  },
  {
   "cell_type": "markdown",
   "metadata": {},
   "source": [
    "#### Fichier json"
   ]
  },
  {
   "cell_type": "code",
   "execution_count": 3,
   "metadata": {},
   "outputs": [
    {
     "name": "stdout",
     "output_type": "stream",
     "text": [
      "Nombre d'annotations faites : 457\n"
     ]
    }
   ],
   "source": [
    "json_file = \"/vol/work1/bergoend/characters.jsonl\"\n",
    "\n",
    "with open(json_file, 'r') as json_file:\n",
    "    json_list = list(json_file)\n",
    "    \n",
    "print(\"Nombre d'annotations faites :\", len(json_list))\n",
    "    "
   ]
  },
  {
   "cell_type": "markdown",
   "metadata": {},
   "source": [
    "## Se baser sur la similarité du texte dans la BDD avec celle des phrases coupées par l'alignement forcé ET leur temps de début\n",
    "\n",
    "Afin de placer le bon personnage devant le bon texte on se base sur la similarité du texte entre l'alignement forcé et la correction dans la BDD Prodigy. Mais, puisqu'une même phrase peut être prononcée à différents moments de l'épisode (et parfois par différents locuteurs), on cherche à remplacer les phrases similaires avec des temps de début et de fins similaires. De cette façon les bons locuteurs sont placés devant les phrases prononcées."
   ]
  },
  {
   "cell_type": "code",
   "execution_count": 8,
   "metadata": {},
   "outputs": [],
   "source": [
    "import spacy\n",
    "from forced_alignment import ForcedAlignment"
   ]
  },
  {
   "cell_type": "markdown",
   "metadata": {},
   "source": [
    "#### Charger l'alignement forcé"
   ]
  },
  {
   "cell_type": "code",
   "execution_count": 9,
   "metadata": {},
   "outputs": [],
   "source": [
    "forced_alignment = ForcedAlignment()"
   ]
  },
  {
   "cell_type": "code",
   "execution_count": 10,
   "metadata": {},
   "outputs": [
    {
     "name": "stdout",
     "output_type": "stream",
     "text": [
      "../pyannote-db-plumcot/Plumcot/data/24/forced-alignment/24.Season01.Episode01.aligned\n"
     ]
    }
   ],
   "source": [
    "# test\n",
    "transcript_file = '24.Season01.Episode01'\n",
    "\n",
    "# path to forced alignment\n",
    "if os.path.isfile(f\"../pyannote-db-plumcot/Plumcot/data/24/forced-alignment/{transcript_file}.aligned\"):\n",
    "    aligned = f\"../pyannote-db-plumcot/Plumcot/data/24/forced-alignment/{transcript_file}.aligned\"\n",
    "    print(aligned)\n",
    "else:\n",
    "    print(\"No aligned file for\")\n",
    "    aligned = \"\"\n",
    "        \n",
    "# load forced alignment        \n",
    "transcript = forced_alignment(aligned)      \n",
    "sentences = list(transcript.sents)"
   ]
  },
  {
   "cell_type": "code",
   "execution_count": 11,
   "metadata": {},
   "outputs": [
    {
     "name": "stdout",
     "output_type": "stream",
     "text": [
      "Nombres de phrases dans l'alignement forcé : 675\n"
     ]
    }
   ],
   "source": [
    "print(\"Nombres de phrases dans l'alignement forcé :\", len(sentences))"
   ]
  },
  {
   "cell_type": "markdown",
   "metadata": {},
   "source": [
    "## Recherche des similarités\n",
    "\n",
    "##### 1. créer un dictionnaire pour l'alignement forcé et un pour les annotations\n",
    "##### 2. Key : (temps_début,temps_fin)\n",
    "##### 3. Val : (locuteur, phrase)\n",
    "### But : trouver les clefs temps communes entre les deux dictionnaires, puis obtenir quel est le locuteur pour la phrase à temps_début, temps_fin"
   ]
  },
  {
   "cell_type": "code",
   "execution_count": 12,
   "metadata": {},
   "outputs": [],
   "source": [
    "# spacy dictionary\n",
    "spacy_dic = {(str(sentence._.start_time), str(sentence._.end_time)) : (sentence._.speaker, sentence) for sentence in sentences}"
   ]
  },
  {
   "cell_type": "code",
   "execution_count": 13,
   "metadata": {},
   "outputs": [
    {
     "name": "stdout",
     "output_type": "stream",
     "text": [
      "Nombre de phrases dans l'alignement forcé : 675\n"
     ]
    }
   ],
   "source": [
    "print(\"Nombre de phrases dans l'alignement forcé :\", len(spacy_dic))\n",
    "#print(spacy_dic)"
   ]
  },
  {
   "cell_type": "markdown",
   "metadata": {},
   "source": [
    "### Créer dictionnaire avec les annotations"
   ]
  },
  {
   "cell_type": "code",
   "execution_count": 14,
   "metadata": {},
   "outputs": [],
   "source": [
    "# annotations dictionary\n",
    "correction_dic = {}\n",
    "for dictionary in json_list:\n",
    "    result = json.loads(dictionary)\n",
    "    # find the annotated character\n",
    "    if result['answer'] == 'accept':\n",
    "        correction_dic[(result['start_time'], result['end_time'])]= (result['accept'][0], result['text'])\n",
    "    # no annotation for the speaker = \"not_available\"\n",
    "    if result['answer'] == 'ignore':\n",
    "        correction_dic[(result['start_time'], result['end_time'])]= (\"not_available\", result['text'])"
   ]
  },
  {
   "cell_type": "code",
   "execution_count": 15,
   "metadata": {},
   "outputs": [
    {
     "name": "stdout",
     "output_type": "stream",
     "text": [
      "Nombre de phrases annotées : 457\n"
     ]
    }
   ],
   "source": [
    "print(\"Nombre de phrases annotées :\", len(correction_dic))\n",
    "#print(correction_dic)"
   ]
  },
  {
   "cell_type": "markdown",
   "metadata": {},
   "source": [
    "#### Annotations restantes"
   ]
  },
  {
   "cell_type": "code",
   "execution_count": 17,
   "metadata": {},
   "outputs": [
    {
     "name": "stdout",
     "output_type": "stream",
     "text": [
      "Annotations restantes : 218\n"
     ]
    }
   ],
   "source": [
    "not_annotated = { k : spacy_dic[k] for k in set(spacy_dic) - set(correction_dic) }\n",
    "print(\"Annotations restantes :\", len(not_annotated))"
   ]
  },
  {
   "cell_type": "markdown",
   "metadata": {},
   "source": [
    "##### Garder les éléments qui n'ont pas été annotés pour les écrire dans le fichier final"
   ]
  },
  {
   "cell_type": "code",
   "execution_count": 18,
   "metadata": {},
   "outputs": [
    {
     "name": "stdout",
     "output_type": "stream",
     "text": [
      "Nombre d'annotations à écrire dans le fichier final : 675\n"
     ]
    }
   ],
   "source": [
    "# merge annotations and not annotated elements\n",
    "final = {**correction_dic, **not_annotated}\n",
    "\n",
    "# sort by times\n",
    "final = {key: val for key, val in sorted(final.items(), key=lambda item: float(item[0][0])) }\n",
    "print(\"Nombre d'annotations à écrire dans le fichier final :\", len(final))"
   ]
  },
  {
   "cell_type": "markdown",
   "metadata": {},
   "source": [
    "### Comparaison de l'ancien alignement avec le nouveau\n",
    "\n",
    "Vérification visuelle, voir captures d'écran"
   ]
  },
  {
   "cell_type": "code",
   "execution_count": 61,
   "metadata": {},
   "outputs": [],
   "source": [
    "with open('24.Season01.Episode01_spacy.txt', \"w\", encoding='utf-8') as w:\n",
    "    spacy = w\n",
    "    for sentence in sentences:\n",
    "        spacy.write(str(sentence._.speaker) + ' ' + str(sentence) + '\\n')"
   ]
  },
  {
   "cell_type": "markdown",
   "metadata": {},
   "source": [
    "#### Ecriture du nouveau fichier de transcription \n",
    "(Nom à modifier), Ecriture du locuteur et du texte prononcé"
   ]
  },
  {
   "cell_type": "code",
   "execution_count": null,
   "metadata": {},
   "outputs": [],
   "source": [
    "with open('24.Season01.Episode01_correction.txt', \"w\", encoding='utf-8') as f:\n",
    "    correction = f\n",
    "    for i, j in final.items():\n",
    "        # write speaker's name and sentence\n",
    "        correction.write(str(j[0]) + ' ' + str(j[1]) + \"\\n\")"
   ]
  }
 ],
 "metadata": {
  "kernelspec": {
   "display_name": "Python 3",
   "language": "python",
   "name": "python3"
  },
  "language_info": {
   "codemirror_mode": {
    "name": "ipython",
    "version": 3
   },
   "file_extension": ".py",
   "mimetype": "text/x-python",
   "name": "python",
   "nbconvert_exporter": "python",
   "pygments_lexer": "ipython3",
   "version": "3.7.0"
  }
 },
 "nbformat": 4,
 "nbformat_minor": 4
}
